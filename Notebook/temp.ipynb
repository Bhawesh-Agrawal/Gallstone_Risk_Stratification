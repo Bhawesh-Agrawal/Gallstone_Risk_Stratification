{
 "cells": [
  {
   "cell_type": "code",
   "execution_count": 1,
   "id": "c3053ee8",
   "metadata": {},
   "outputs": [],
   "source": [
    "import pandas as pd"
   ]
  },
  {
   "cell_type": "code",
   "execution_count": 3,
   "id": "a6a8c8e8",
   "metadata": {},
   "outputs": [],
   "source": [
    "data = pd.read_csv('https://raw.githubusercontent.com/Bhawesh-Agrawal/Gallstone_Risk_Stratification/master/Dataset/gallstone_.csv')"
   ]
  },
  {
   "cell_type": "code",
   "execution_count": 10,
   "id": "2cc87f54",
   "metadata": {},
   "outputs": [
    {
     "data": {
      "text/plain": [
       "{'Gallstone Status': 0.0,\n",
       " 'Age': 50.0,\n",
       " 'Gender': 0.0,\n",
       " 'Comorbidity': 0.0,\n",
       " 'Coronary Artery Disease (CAD)': 0.0,\n",
       " 'Hypothyroidism': 0.0,\n",
       " 'Hyperlipidemia': 0.0,\n",
       " 'Diabetes Mellitus (DM)': 0.0,\n",
       " 'Height': 185.0,\n",
       " 'Weight': 92.8,\n",
       " 'Body Mass Index (BMI)': 27.1,\n",
       " 'Total Body Water (TBW)': 52.9,\n",
       " 'Extracellular Water (ECW)': 21.2,\n",
       " 'Intracellular Water (ICW)': 31.7,\n",
       " 'Extracellular Fluid/Total Body Water (ECF/TBW)': 40.0,\n",
       " 'Total Body Fat Ratio (TBFR) (%)': 19.2,\n",
       " 'Lean Mass (LM) (%)': 80.84,\n",
       " 'Body Protein Content (Protein) (%)': 18.88,\n",
       " 'Visceral Fat Rating (VFR)': 9.0,\n",
       " 'Bone Mass (BM)': 3.7,\n",
       " 'Muscle Mass (MM)': 71.4,\n",
       " 'Obesity (%)': 23.4,\n",
       " 'Total Fat Content (TFC)': 17.8,\n",
       " 'Visceral Fat Area (VFA)': 10.6,\n",
       " 'Visceral Muscle Area (VMA) (Kg)': 39.7,\n",
       " 'Hepatic Fat Accumulation (HFA)': 0.0,\n",
       " 'Glucose': 102.0,\n",
       " 'Total Cholesterol (TC)': 250.0,\n",
       " 'Low Density Lipoprotein (LDL)': 175.0,\n",
       " 'High Density Lipoprotein (HDL)': 40.0,\n",
       " 'Triglyceride': 134.0,\n",
       " 'Aspartat Aminotransferaz (AST)': 20.0,\n",
       " 'Alanin Aminotransferaz (ALT)': 22.0,\n",
       " 'Alkaline Phosphatase (ALP)': 87.0,\n",
       " 'Creatinine': 0.82,\n",
       " 'Glomerular Filtration Rate (GFR)': 112.47,\n",
       " 'C-Reactive Protein (CRP)': 0.0,\n",
       " 'Hemoglobin (HGB)': 16.0,\n",
       " 'Vitamin D': 33.0}"
      ]
     },
     "execution_count": 10,
     "metadata": {},
     "output_type": "execute_result"
    }
   ],
   "source": [
    "data.loc[0, :].to_dict()"
   ]
  },
  {
   "cell_type": "code",
   "execution_count": null,
   "id": "bedd79d7",
   "metadata": {},
   "outputs": [],
   "source": []
  }
 ],
 "metadata": {
  "kernelspec": {
   "display_name": ".venv",
   "language": "python",
   "name": "python3"
  },
  "language_info": {
   "codemirror_mode": {
    "name": "ipython",
    "version": 3
   },
   "file_extension": ".py",
   "mimetype": "text/x-python",
   "name": "python",
   "nbconvert_exporter": "python",
   "pygments_lexer": "ipython3",
   "version": "3.13.3"
  }
 },
 "nbformat": 4,
 "nbformat_minor": 5
}
